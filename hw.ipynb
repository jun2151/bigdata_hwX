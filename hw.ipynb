{
 "cells": [
  {
   "attachments": {},
   "cell_type": "markdown",
   "metadata": {
    "id": "uh3RUF58-fpy"
   },
   "source": [
    "# Imports"
   ]
  },
  {
   "cell_type": "code",
   "execution_count": null,
   "metadata": {
    "id": "Yl1as_58-eEP"
   },
   "outputs": [],
   "source": [
    "import pandas as pd\n",
    "from sklearn.impute import SimpleImputer\n",
    "import numpy as np\n",
    "from imblearn.under_sampling import RandomUnderSampler\n",
    "import matplotlib.pyplot as plt\n",
    "from numpy import where"
   ]
  },
  {
   "attachments": {},
   "cell_type": "markdown",
   "metadata": {
    "id": "yN6cetsn-lxQ"
   },
   "source": [
    "# Preprocessing"
   ]
  },
  {
   "cell_type": "code",
   "execution_count": null,
   "metadata": {
    "id": "loWnC1YD-mA4"
   },
   "outputs": [],
   "source": [
    "pd.set_option('display.max_columns', None)\n",
    "pd.set_option('display.width', 130)\n",
    "pd.options.display.float_format = '{:,.3f}'.format\n",
    "\n",
    "###1. read data\n",
    "data = pd.read_csv('train.csv')\n",
    "data_test = pd.read_csv('test.csv')\n",
    "\n",
    "print('\\n#feature count with raw data')\n",
    "print(data['timestamp(day)'].count())\n"
   ]
  },
  {
   "cell_type": "code",
   "execution_count": null,
   "metadata": {},
   "outputs": [],
   "source": [
    "###2. original 결측치(nan) 제거 \n",
    "data = data.dropna(subset=['original'], how='any', axis=0)\n",
    "data_test = data_test.dropna(subset=['original'], how='any', axis=0)"
   ]
  },
  {
   "cell_type": "code",
   "execution_count": null,
   "metadata": {},
   "outputs": [],
   "source": [
    "###3. imputation \n",
    "#ref from https://www.kaggle.com/code/inversion/get-started-with-mean-imputation\n",
    "\n",
    "imp = SimpleImputer(missing_values=np.nan, strategy='most_frequent')\n",
    "data[:] = imp.fit_transform(data)\n",
    "#imputation for test data\n",
    "data_test[:] = imp.fit_transform(data_test)\n",
    "\n",
    "print('\\n#feature count after imputation')\n",
    "print(data['timestamp(day)'].count())\n",
    "\n"
   ]
  },
  {
   "cell_type": "code",
   "execution_count": null,
   "metadata": {},
   "outputs": [],
   "source": [
    "###5. replace -4,-5 => -3\n",
    "data = data.replace(-5, -3)\n",
    "data = data.replace(-4, -3)\n",
    "\n",
    "data_test = data_test.replace(-5, -3)\n",
    "data_test = data_test.replace(-4, -3)"
   ]
  },
  {
   "cell_type": "code",
   "execution_count": null,
   "metadata": {},
   "outputs": [],
   "source": [
    "###6. data balancing: under_sampling\n",
    "#ref from: https://medium.com/grabngoinfo/four-oversampling-and-under-sampling-methods-for-imbalanced-classification-using-python-7304aedf9037\n",
    "\n",
    "#define dataset for data balancing(under_sampling)\n",
    "x = data.iloc[:, [0,1,2,3,4,5,6,7,8,9,10,11,12,13,14,15,16,17,18,19,20,\n",
    "    21,22,23,24,25,26,27,28,29,30,31,32,33,34,35,36]] \n",
    "y = data['timestamp(day)'] #index=34\n",
    "\n",
    "rus = RandomUnderSampler(random_state=42)\n",
    "x, y = rus.fit_resample(x, y)\n",
    "\n",
    "#test data balancing: under_sampling\n",
    "x_test = data_test.iloc[:, [0,1,2,3,4,5,6,7,8,9,10,11,12,13,14,15,16,17,18,19,20,\n",
    "    21,22,23,24,25,26,27,28,29,30,31,32,33,34,35,36]] \n",
    "y_test = data_test['timestamp(day)']\n",
    "\n",
    "rus = RandomUnderSampler(random_state=42)\n",
    "x_test, y_test = rus.fit_resample(x_test, y_test)\n",
    "\n",
    "print('\\n#feature count after under sampling')\n",
    "print(x['timestamp(day)'].count())\n"
   ]
  },
  {
   "attachments": {},
   "cell_type": "markdown",
   "metadata": {
    "id": "yGSIpZMc-mb8"
   },
   "source": [
    "# EDA\n"
   ]
  },
  {
   "cell_type": "code",
   "execution_count": null,
   "metadata": {
    "id": "4kAua9GP-mrt"
   },
   "outputs": [],
   "source": [
    "###7. part 1 answer\n",
    "\n",
    "###1) patient’s count \n",
    "print('\\n#patient count')\n",
    "print(data['timestamp(day)'].count()) "
   ]
  },
  {
   "cell_type": "code",
   "execution_count": null,
   "metadata": {},
   "outputs": [],
   "source": [
    "###2) the mean and median value of the label (day)\n",
    "\n",
    "print('\\n#timestamp(day) mean')\n",
    "print(x['timestamp(day)'].mean())\n",
    "print('\\n#timestamp(day) median')\n",
    "print(x['timestamp(day)'].median())"
   ]
  },
  {
   "cell_type": "code",
   "execution_count": null,
   "metadata": {},
   "outputs": [],
   "source": [
    "###3) Perform EDA and calculate the statistics of the dataset: \n",
    " #   mean, std, correlations among features, etc. \n",
    " #   (e.g.There are 34 features and you have to find the correlations \n",
    " #   among each feature (34 by 34 correlation matrix)).\n",
    "\n",
    "print('\\n# x.describe')\n",
    "print(x.describe())\n",
    "print('\\n# x.corr')\n",
    "print(x.corr())"
   ]
  },
  {
   "attachments": {},
   "cell_type": "markdown",
   "metadata": {
    "id": "pg6SnCu8-nI3"
   },
   "source": [
    "# Model Selection\n",
    "\n"
   ]
  },
  {
   "cell_type": "code",
   "execution_count": null,
   "metadata": {
    "id": "NWJ6mDp3_IxK"
   },
   "outputs": [],
   "source": []
  },
  {
   "attachments": {},
   "cell_type": "markdown",
   "metadata": {
    "id": "Zl_ZtSTd_JFA"
   },
   "source": [
    "# Model Tuning\n",
    "\n"
   ]
  },
  {
   "cell_type": "code",
   "execution_count": null,
   "metadata": {
    "id": "6rH-i_pz_JdU"
   },
   "outputs": [],
   "source": []
  },
  {
   "attachments": {},
   "cell_type": "markdown",
   "metadata": {
    "id": "Y-k5WmJq_NCU"
   },
   "source": [
    "# Model Evaluation / Metrics"
   ]
  },
  {
   "cell_type": "code",
   "execution_count": null,
   "metadata": {
    "id": "e0EvXMMKwMHC"
   },
   "outputs": [],
   "source": []
  },
  {
   "cell_type": "code",
   "execution_count": null,
   "metadata": {},
   "outputs": [],
   "source": []
  }
 ],
 "metadata": {
  "colab": {
   "provenance": []
  },
  "kernelspec": {
   "display_name": "Python 3 (ipykernel)",
   "language": "python",
   "name": "python3"
  },
  "language_info": {
   "codemirror_mode": {
    "name": "ipython",
    "version": 3
   },
   "file_extension": ".py",
   "mimetype": "text/x-python",
   "name": "python",
   "nbconvert_exporter": "python",
   "pygments_lexer": "ipython3",
   "version": "3.9.12"
  }
 },
 "nbformat": 4,
 "nbformat_minor": 1
}
